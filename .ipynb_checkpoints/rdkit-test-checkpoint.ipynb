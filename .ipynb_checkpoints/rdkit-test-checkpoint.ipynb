{
 "cells": [
  {
   "cell_type": "code",
   "execution_count": 1,
   "metadata": {},
   "outputs": [],
   "source": [
    "from rdkit import Chem"
   ]
  },
  {
   "cell_type": "code",
   "execution_count": 13,
   "metadata": {},
   "outputs": [
    {
     "name": "stdout",
     "output_type": "stream",
     "text": [
      "<rdkit.Chem.rdchem.Mol object at 0x7f8ce14c3da0>\n"
     ]
    }
   ],
   "source": [
    "m = Chem.MolFromSmiles('CC(=O)NCCC1=CNc2c1cc(OC)cc2')\n",
    "print(m)"
   ]
  },
  {
   "cell_type": "code",
   "execution_count": 14,
   "metadata": {},
   "outputs": [
    {
     "name": "stdout",
     "output_type": "stream",
     "text": [
      "\n",
      "     RDKit          2D\n",
      "\n",
      " 17 18  0  0  0  0  0  0  0  0999 V2000\n",
      "    6.1170   -7.0506    0.0000 C   0  0  0  0  0  0  0  0  0  0  0  0\n",
      "    4.6904   -6.5871    0.0000 C   0  0  0  0  0  0  0  0  0  0  0  0\n",
      "    3.5757   -7.5908    0.0000 O   0  0  0  0  0  0  0  0  0  0  0  0\n",
      "    4.3786   -5.1199    0.0000 N   0  0  0  0  0  0  0  0  0  0  0  0\n",
      "    2.9520   -4.6564    0.0000 C   0  0  0  0  0  0  0  0  0  0  0  0\n",
      "    2.6401   -3.1891    0.0000 C   0  0  0  0  0  0  0  0  0  0  0  0\n",
      "    1.2135   -2.7256    0.0000 C   0  0  0  0  0  0  0  0  0  0  0  0\n",
      "    0.0000   -3.6073    0.0000 C   0  0  0  0  0  0  0  0  0  0  0  0\n",
      "   -1.2135   -2.7256    0.0000 N   0  0  0  0  0  0  0  0  0  0  0  0\n",
      "   -0.7500   -1.2990    0.0000 C   0  0  0  0  0  0  0  0  0  0  0  0\n",
      "    0.7500   -1.2990    0.0000 C   0  0  0  0  0  0  0  0  0  0  0  0\n",
      "    1.5000    0.0000    0.0000 C   0  0  0  0  0  0  0  0  0  0  0  0\n",
      "    0.7500    1.2990    0.0000 C   0  0  0  0  0  0  0  0  0  0  0  0\n",
      "    1.5000    2.5981    0.0000 O   0  0  0  0  0  0  0  0  0  0  0  0\n",
      "    3.0000    2.5981    0.0000 C   0  0  0  0  0  0  0  0  0  0  0  0\n",
      "   -0.7500    1.2990    0.0000 C   0  0  0  0  0  0  0  0  0  0  0  0\n",
      "   -1.5000    0.0000    0.0000 C   0  0  0  0  0  0  0  0  0  0  0  0\n",
      "  1  2  1  0\n",
      "  2  3  2  0\n",
      "  2  4  1  0\n",
      "  4  5  1  0\n",
      "  5  6  1  0\n",
      "  6  7  1  0\n",
      "  7  8  2  0\n",
      "  8  9  1  0\n",
      "  9 10  1  0\n",
      " 10 11  2  0\n",
      " 11 12  1  0\n",
      " 12 13  2  0\n",
      " 13 14  1  0\n",
      " 14 15  1  0\n",
      " 13 16  1  0\n",
      " 16 17  2  0\n",
      " 11  7  1  0\n",
      " 17 10  1  0\n",
      "M  END\n",
      "\n"
     ]
    }
   ],
   "source": [
    "print(Chem.MolToMolBlock(m))"
   ]
  },
  {
   "cell_type": "code",
   "execution_count": 4,
   "metadata": {},
   "outputs": [
    {
     "data": {
      "text/plain": [
       "0"
      ]
     },
     "execution_count": 4,
     "metadata": {},
     "output_type": "execute_result"
    }
   ],
   "source": [
    "from rdkit.Chem import AllChem\n",
    "AllChem.Compute2DCoords(m)"
   ]
  },
  {
   "cell_type": "code",
   "execution_count": 18,
   "metadata": {},
   "outputs": [
    {
     "name": "stdout",
     "output_type": "stream",
     "text": [
      "\n",
      "     RDKit          3D\n",
      "\n",
      " 17 18  0  0  0  0  0  0  0  0999 V2000\n",
      "   -4.6666    1.7402   -0.3716 C   0  0  0  0  0  0  0  0  0  0  0  0\n",
      "   -3.9107    0.4986   -0.0264 C   0  0  0  0  0  0  0  0  0  0  0  0\n",
      "   -3.7407   -0.4202   -0.8789 O   0  0  0  0  0  0  0  0  0  0  0  0\n",
      "   -3.3512    0.2863    1.2563 N   0  0  0  0  0  0  0  0  0  0  0  0\n",
      "   -2.6157   -0.8868    1.6432 C   0  0  0  0  0  0  0  0  0  0  0  0\n",
      "   -1.3901   -1.1370    0.8378 C   0  0  0  0  0  0  0  0  0  0  0  0\n",
      "   -0.4055   -0.0140    0.9212 C   0  0  0  0  0  0  0  0  0  0  0  0\n",
      "   -0.4873    1.1627    1.6150 C   0  0  0  0  0  0  0  0  0  0  0  0\n",
      "    0.6517    1.8325    1.3643 N   0  0  0  0  0  0  0  0  0  0  0  0\n",
      "    1.4522    1.1355    0.5439 C   0  0  0  0  0  0  0  0  0  0  0  0\n",
      "    0.7997   -0.0441    0.2484 C   0  0  0  0  0  0  0  0  0  0  0  0\n",
      "    1.3811   -0.9915   -0.5909 C   0  0  0  0  0  0  0  0  0  0  0  0\n",
      "    2.6246   -0.7847   -1.1538 C   0  0  0  0  0  0  0  0  0  0  0  0\n",
      "    3.2064   -1.7367   -1.9958 O   0  0  0  0  0  0  0  0  0  0  0  0\n",
      "    4.4843   -1.4695   -2.5442 C   0  0  0  0  0  0  0  0  0  0  0  0\n",
      "    3.2667    0.3976   -0.8511 C   0  0  0  0  0  0  0  0  0  0  0  0\n",
      "    2.7011    1.3504   -0.0175 C   0  0  0  0  0  0  0  0  0  0  0  0\n",
      "  1  2  1  0\n",
      "  2  3  2  0\n",
      "  2  4  1  0\n",
      "  4  5  1  0\n",
      "  5  6  1  0\n",
      "  6  7  1  0\n",
      "  7  8  2  0\n",
      "  8  9  1  0\n",
      "  9 10  1  0\n",
      " 10 11  2  0\n",
      " 11 12  1  0\n",
      " 12 13  2  0\n",
      " 13 14  1  0\n",
      " 14 15  1  0\n",
      " 13 16  1  0\n",
      " 16 17  2  0\n",
      " 11  7  1  0\n",
      " 17 10  1  0\n",
      "M  END\n",
      "\n"
     ]
    }
   ],
   "source": [
    "AllChem.EmbedMolecule(m)\n",
    "print(Chem.MolToMolBlock(m))\n",
    "string  = Chem.MolToMolBlock(m)"
   ]
  },
  {
   "cell_type": "code",
   "execution_count": 6,
   "metadata": {},
   "outputs": [
    {
     "data": {
      "text/plain": [
       "0"
      ]
     },
     "execution_count": 6,
     "metadata": {},
     "output_type": "execute_result"
    }
   ],
   "source": [
    "m = Chem.MolFromSmiles('c1nccc2n1ccc2')\n",
    "AllChem.Compute2DCoords(m)\n",
    "template = Chem.MolFromSmiles('c1nccc2n1ccc2')\n",
    "AllChem.Compute2DCoords(template)"
   ]
  },
  {
   "cell_type": "code",
   "execution_count": 7,
   "metadata": {},
   "outputs": [],
   "source": [
    "AllChem.GenerateDepictionMatching2DStructure(m,template)"
   ]
  },
  {
   "cell_type": "code",
   "execution_count": 8,
   "metadata": {},
   "outputs": [],
   "source": [
    "from rdkit.Chem import Draw\n",
    "Draw.MolToFile(m,'static/image.png')"
   ]
  },
  {
   "cell_type": "code",
   "execution_count": 10,
   "metadata": {},
   "outputs": [],
   "source": [
    "import py3Dmol"
   ]
  },
  {
   "cell_type": "code",
   "execution_count": 31,
   "metadata": {},
   "outputs": [
    {
     "data": {
      "application/3dmoljs_load.v0": "<div id=\"3dmolviewer_16028457957738853\"  style=\"position: relative; width: 640px; height: 480px\">\n        <p id=\"3dmolwarning_16028457957738853\" style=\"background-color:#ffcccc;color:black\">You appear to be running in JupyterLab (or JavaScript failed to load for some other reason).  You need to install the 3dmol extension: <br>\n        <tt>jupyter labextension install jupyterlab_3dmol</tt></p>\n        </div>\n<script>\n\nvar loadScriptAsync = function(uri){\n  return new Promise((resolve, reject) => {\n    var tag = document.createElement('script');\n    tag.src = uri;\n    tag.async = true;\n    tag.onload = () => {\n      resolve();\n    };\n  var firstScriptTag = document.getElementsByTagName('script')[0];\n  firstScriptTag.parentNode.insertBefore(tag, firstScriptTag);\n});\n};\n\nif(typeof $3Dmolpromise === 'undefined') {\n$3Dmolpromise = null;\n  $3Dmolpromise = loadScriptAsync('https://3dmol.org/build/3Dmol.js');\n}\n\nvar viewer_16028457957738853 = null;\nvar warn = document.getElementById(\"3dmolwarning_16028457957738853\");\nif(warn) {\n    warn.parentNode.removeChild(warn);\n}\n$3Dmolpromise.then(function() {\nviewer_16028457957738853 = $3Dmol.createViewer($(\"#3dmolviewer_16028457957738853\"),{backgroundColor:\"white\"});\n\tviewer_16028457957738853.addModel(\"\\n    RDKit          3D\\n\\n 17 18  0  0  0  0  0  0  0  0999 V2000\\n    5.6373    1.2983    1.1454 C   0  0  0  0  0  0  0  0  0  0  0  0\\n    4.4543    0.7459    0.4406 C   0  0  0  0  0  0  0  0  0  0  0  0\\n    4.5805   -0.3635   -0.1352 O   0  0  0  0  0  0  0  0  0  0  0  0\\n    3.2037    1.3932    0.3816 N   0  0  0  0  0  0  0  0  0  0  0  0\\n    2.0478    0.8858   -0.2882 C   0  0  0  0  0  0  0  0  0  0  0  0\\n    1.5882   -0.4474    0.2484 C   0  0  0  0  0  0  0  0  0  0  0  0\\n    0.4036   -0.9619   -0.4426 C   0  0  0  0  0  0  0  0  0  0  0  0\\n    0.4207   -1.9738   -1.3777 C   0  0  0  0  0  0  0  0  0  0  0  0\\n   -0.8488   -2.1725   -1.7924 N   0  0  0  0  0  0  0  0  0  0  0  0\\n   -1.6783   -1.3221   -1.1545 C   0  0  0  0  0  0  0  0  0  0  0  0\\n   -0.8995   -0.5618   -0.3080 C   0  0  0  0  0  0  0  0  0  0  0  0\\n   -1.4306    0.4228    0.5077 C   0  0  0  0  0  0  0  0  0  0  0  0\\n   -2.7878    0.6716    0.4908 C   0  0  0  0  0  0  0  0  0  0  0  0\\n   -3.3565    1.6660    1.3086 O   0  0  0  0  0  0  0  0  0  0  0  0\\n   -4.7398    1.8835    1.2575 C   0  0  0  0  0  0  0  0  0  0  0  0\\n   -3.5698   -0.0860   -0.3539 C   0  0  0  0  0  0  0  0  0  0  0  0\\n   -3.0249   -1.0781   -1.1739 C   0  0  0  0  0  0  0  0  0  0  0  0\\n  1  2  1  0\\n  2  3  2  0\\n  2  4  1  0\\n  4  5  1  0\\n  5  6  1  0\\n  6  7  1  0\\n  7  8  2  0\\n  8  9  1  0\\n  9 10  1  0\\n 10 11  2  0\\n 11 12  1  0\\n 12 13  2  0\\n 13 14  1  0\\n 14 15  1  0\\n 13 16  1  0\\n 16 17  2  0\\n 11  7  1  0\\n 17 10  1  0\\nM  END\\n$$$$\",\"sdf\");\n\tviewer_16028457957738853.setStyle({\"stick\": {}});\n\tviewer_16028457957738853.setStyle({\"model\": 0},{\"stick\": {\"colorscheme\": \"cyanCarbon\"}});\n\tviewer_16028457957738853.zoomTo();\nviewer_16028457957738853.render();\n});\n</script>",
      "text/html": [
       "<div id=\"3dmolviewer_16028457957738853\"  style=\"position: relative; width: 640px; height: 480px\">\n",
       "        <p id=\"3dmolwarning_16028457957738853\" style=\"background-color:#ffcccc;color:black\">You appear to be running in JupyterLab (or JavaScript failed to load for some other reason).  You need to install the 3dmol extension: <br>\n",
       "        <tt>jupyter labextension install jupyterlab_3dmol</tt></p>\n",
       "        </div>\n",
       "<script>\n",
       "\n",
       "var loadScriptAsync = function(uri){\n",
       "  return new Promise((resolve, reject) => {\n",
       "    var tag = document.createElement('script');\n",
       "    tag.src = uri;\n",
       "    tag.async = true;\n",
       "    tag.onload = () => {\n",
       "      resolve();\n",
       "    };\n",
       "  var firstScriptTag = document.getElementsByTagName('script')[0];\n",
       "  firstScriptTag.parentNode.insertBefore(tag, firstScriptTag);\n",
       "});\n",
       "};\n",
       "\n",
       "if(typeof $3Dmolpromise === 'undefined') {\n",
       "$3Dmolpromise = null;\n",
       "  $3Dmolpromise = loadScriptAsync('https://3dmol.org/build/3Dmol.js');\n",
       "}\n",
       "\n",
       "var viewer_16028457957738853 = null;\n",
       "var warn = document.getElementById(\"3dmolwarning_16028457957738853\");\n",
       "if(warn) {\n",
       "    warn.parentNode.removeChild(warn);\n",
       "}\n",
       "$3Dmolpromise.then(function() {\n",
       "viewer_16028457957738853 = $3Dmol.createViewer($(\"#3dmolviewer_16028457957738853\"),{backgroundColor:\"white\"});\n",
       "\tviewer_16028457957738853.addModel(\"\\n    RDKit          3D\\n\\n 17 18  0  0  0  0  0  0  0  0999 V2000\\n    5.6373    1.2983    1.1454 C   0  0  0  0  0  0  0  0  0  0  0  0\\n    4.4543    0.7459    0.4406 C   0  0  0  0  0  0  0  0  0  0  0  0\\n    4.5805   -0.3635   -0.1352 O   0  0  0  0  0  0  0  0  0  0  0  0\\n    3.2037    1.3932    0.3816 N   0  0  0  0  0  0  0  0  0  0  0  0\\n    2.0478    0.8858   -0.2882 C   0  0  0  0  0  0  0  0  0  0  0  0\\n    1.5882   -0.4474    0.2484 C   0  0  0  0  0  0  0  0  0  0  0  0\\n    0.4036   -0.9619   -0.4426 C   0  0  0  0  0  0  0  0  0  0  0  0\\n    0.4207   -1.9738   -1.3777 C   0  0  0  0  0  0  0  0  0  0  0  0\\n   -0.8488   -2.1725   -1.7924 N   0  0  0  0  0  0  0  0  0  0  0  0\\n   -1.6783   -1.3221   -1.1545 C   0  0  0  0  0  0  0  0  0  0  0  0\\n   -0.8995   -0.5618   -0.3080 C   0  0  0  0  0  0  0  0  0  0  0  0\\n   -1.4306    0.4228    0.5077 C   0  0  0  0  0  0  0  0  0  0  0  0\\n   -2.7878    0.6716    0.4908 C   0  0  0  0  0  0  0  0  0  0  0  0\\n   -3.3565    1.6660    1.3086 O   0  0  0  0  0  0  0  0  0  0  0  0\\n   -4.7398    1.8835    1.2575 C   0  0  0  0  0  0  0  0  0  0  0  0\\n   -3.5698   -0.0860   -0.3539 C   0  0  0  0  0  0  0  0  0  0  0  0\\n   -3.0249   -1.0781   -1.1739 C   0  0  0  0  0  0  0  0  0  0  0  0\\n  1  2  1  0\\n  2  3  2  0\\n  2  4  1  0\\n  4  5  1  0\\n  5  6  1  0\\n  6  7  1  0\\n  7  8  2  0\\n  8  9  1  0\\n  9 10  1  0\\n 10 11  2  0\\n 11 12  1  0\\n 12 13  2  0\\n 13 14  1  0\\n 14 15  1  0\\n 13 16  1  0\\n 16 17  2  0\\n 11  7  1  0\\n 17 10  1  0\\nM  END\\n$$$$\",\"sdf\");\n",
       "\tviewer_16028457957738853.setStyle({\"stick\": {}});\n",
       "\tviewer_16028457957738853.setStyle({\"model\": 0},{\"stick\": {\"colorscheme\": \"cyanCarbon\"}});\n",
       "\tviewer_16028457957738853.zoomTo();\n",
       "viewer_16028457957738853.render();\n",
       "});\n",
       "</script>"
      ]
     },
     "metadata": {},
     "output_type": "display_data"
    },
    {
     "data": {
      "text/plain": [
       "<py3Dmol.view at 0x7f8ce0e14bd0>"
      ]
     },
     "execution_count": 31,
     "metadata": {},
     "output_type": "execute_result"
    }
   ],
   "source": [
    "benz='''\n",
    "    RDKit          3D\n",
    "\n",
    " 17 18  0  0  0  0  0  0  0  0999 V2000\n",
    "    5.6373    1.2983    1.1454 C   0  0  0  0  0  0  0  0  0  0  0  0\n",
    "    4.4543    0.7459    0.4406 C   0  0  0  0  0  0  0  0  0  0  0  0\n",
    "    4.5805   -0.3635   -0.1352 O   0  0  0  0  0  0  0  0  0  0  0  0\n",
    "    3.2037    1.3932    0.3816 N   0  0  0  0  0  0  0  0  0  0  0  0\n",
    "    2.0478    0.8858   -0.2882 C   0  0  0  0  0  0  0  0  0  0  0  0\n",
    "    1.5882   -0.4474    0.2484 C   0  0  0  0  0  0  0  0  0  0  0  0\n",
    "    0.4036   -0.9619   -0.4426 C   0  0  0  0  0  0  0  0  0  0  0  0\n",
    "    0.4207   -1.9738   -1.3777 C   0  0  0  0  0  0  0  0  0  0  0  0\n",
    "   -0.8488   -2.1725   -1.7924 N   0  0  0  0  0  0  0  0  0  0  0  0\n",
    "   -1.6783   -1.3221   -1.1545 C   0  0  0  0  0  0  0  0  0  0  0  0\n",
    "   -0.8995   -0.5618   -0.3080 C   0  0  0  0  0  0  0  0  0  0  0  0\n",
    "   -1.4306    0.4228    0.5077 C   0  0  0  0  0  0  0  0  0  0  0  0\n",
    "   -2.7878    0.6716    0.4908 C   0  0  0  0  0  0  0  0  0  0  0  0\n",
    "   -3.3565    1.6660    1.3086 O   0  0  0  0  0  0  0  0  0  0  0  0\n",
    "   -4.7398    1.8835    1.2575 C   0  0  0  0  0  0  0  0  0  0  0  0\n",
    "   -3.5698   -0.0860   -0.3539 C   0  0  0  0  0  0  0  0  0  0  0  0\n",
    "   -3.0249   -1.0781   -1.1739 C   0  0  0  0  0  0  0  0  0  0  0  0\n",
    "  1  2  1  0\n",
    "  2  3  2  0\n",
    "  2  4  1  0\n",
    "  4  5  1  0\n",
    "  5  6  1  0\n",
    "  6  7  1  0\n",
    "  7  8  2  0\n",
    "  8  9  1  0\n",
    "  9 10  1  0\n",
    " 10 11  2  0\n",
    " 11 12  1  0\n",
    " 12 13  2  0\n",
    " 13 14  1  0\n",
    " 14 15  1  0\n",
    " 13 16  1  0\n",
    " 16 17  2  0\n",
    " 11  7  1  0\n",
    " 17 10  1  0\n",
    "M  END\n",
    "$$$$'''\n",
    "view = py3Dmol.view()\n",
    "view.addModel(benz,'sdf')\n",
    "view.setStyle({'stick':{}})\n",
    "view.setStyle({'model':0},{'stick':{'colorscheme':'cyanCarbon'}})\n",
    "view.zoomTo()"
   ]
  },
  {
   "cell_type": "code",
   "execution_count": 29,
   "metadata": {},
   "outputs": [
    {
     "data": {
      "application/3dmoljs_load.v0": "<div id=\"3dmolviewer_1602845778777559\"  style=\"position: relative; width: 640px; height: 480px\">\n        <p id=\"3dmolwarning_1602845778777559\" style=\"background-color:#ffcccc;color:black\">You appear to be running in JupyterLab (or JavaScript failed to load for some other reason).  You need to install the 3dmol extension: <br>\n        <tt>jupyter labextension install jupyterlab_3dmol</tt></p>\n        </div>\n<script>\n\nvar loadScriptAsync = function(uri){\n  return new Promise((resolve, reject) => {\n    var tag = document.createElement('script');\n    tag.src = uri;\n    tag.async = true;\n    tag.onload = () => {\n      resolve();\n    };\n  var firstScriptTag = document.getElementsByTagName('script')[0];\n  firstScriptTag.parentNode.insertBefore(tag, firstScriptTag);\n});\n};\n\nif(typeof $3Dmolpromise === 'undefined') {\n$3Dmolpromise = null;\n  $3Dmolpromise = loadScriptAsync('https://3dmol.org/build/3Dmol.js');\n}\n\nvar viewer_1602845778777559 = null;\nvar warn = document.getElementById(\"3dmolwarning_1602845778777559\");\nif(warn) {\n    warn.parentNode.removeChild(warn);\n}\n$3Dmolpromise.then(function() {\nviewer_1602845778777559 = $3Dmol.createViewer($(\"#3dmolviewer_1602845778777559\"),{backgroundColor:\"white\"});\n\tviewer_1602845778777559.addModel(\"\\n     RDKit          3D\\n\\n 12 13  0  0  0  0  0  0  0  0999 V2000\\n   -1.3414   -1.9990   -0.5372 C   0  0  0  0  0  0  0  0  0  0  0  0\\n   -1.7973   -0.7178   -0.1673 N   0  0  0  0  0  0  0  0  0  0  0  0\\n   -1.5094   -0.2552    1.1412 C   0  0  0  0  0  0  0  0  0  0  0  0\\n   -2.3013    1.0583    0.9954 C   0  0  0  0  0  0  0  0  0  0  0  0\\n   -1.5276    1.6347   -0.1089 C   0  0  0  0  0  0  0  0  0  0  0  0\\n   -1.1461    0.3603   -1.0780 C   0  0  1  0  0  0  0  0  0  0  0  0\\n    0.3058    0.1861   -0.5760 C   0  0  0  0  0  0  0  0  0  0  0  0\\n    1.1113    1.2363   -0.2529 C   0  0  0  0  0  0  0  0  0  0  0  0\\n    2.4128    1.0554    0.1887 C   0  0  0  0  0  0  0  0  0  0  0  0\\n    2.8860   -0.2205    0.2975 C   0  0  0  0  0  0  0  0  0  0  0  0\\n    2.1011   -1.2665   -0.0182 N   0  0  0  0  0  0  0  0  0  0  0  0\\n    0.8062   -1.0722   -0.4570 C   0  0  0  0  0  0  0  0  0  0  0  0\\n  1  2  1  0\\n  2  3  1  0\\n  3  4  1  0\\n  4  5  1  0\\n  5  6  1  0\\n  6  7  1  1\\n  7  8  2  0\\n  8  9  1  0\\n  9 10  2  0\\n 10 11  1  0\\n 11 12  2  0\\n  6  2  1  0\\n 12  7  1  0\\nM  END\\n\",\"sdf\");\n\tviewer_1602845778777559.setStyle({\"stick\": {}});\n\tviewer_1602845778777559.setStyle({\"model\": 0},{\"stick\": {\"colorscheme\": \"cyanCarbon\"}});\n\tviewer_1602845778777559.zoomTo();\nviewer_1602845778777559.render();\n});\n</script>",
      "text/html": [
       "<div id=\"3dmolviewer_1602845778777559\"  style=\"position: relative; width: 640px; height: 480px\">\n",
       "        <p id=\"3dmolwarning_1602845778777559\" style=\"background-color:#ffcccc;color:black\">You appear to be running in JupyterLab (or JavaScript failed to load for some other reason).  You need to install the 3dmol extension: <br>\n",
       "        <tt>jupyter labextension install jupyterlab_3dmol</tt></p>\n",
       "        </div>\n",
       "<script>\n",
       "\n",
       "var loadScriptAsync = function(uri){\n",
       "  return new Promise((resolve, reject) => {\n",
       "    var tag = document.createElement('script');\n",
       "    tag.src = uri;\n",
       "    tag.async = true;\n",
       "    tag.onload = () => {\n",
       "      resolve();\n",
       "    };\n",
       "  var firstScriptTag = document.getElementsByTagName('script')[0];\n",
       "  firstScriptTag.parentNode.insertBefore(tag, firstScriptTag);\n",
       "});\n",
       "};\n",
       "\n",
       "if(typeof $3Dmolpromise === 'undefined') {\n",
       "$3Dmolpromise = null;\n",
       "  $3Dmolpromise = loadScriptAsync('https://3dmol.org/build/3Dmol.js');\n",
       "}\n",
       "\n",
       "var viewer_1602845778777559 = null;\n",
       "var warn = document.getElementById(\"3dmolwarning_1602845778777559\");\n",
       "if(warn) {\n",
       "    warn.parentNode.removeChild(warn);\n",
       "}\n",
       "$3Dmolpromise.then(function() {\n",
       "viewer_1602845778777559 = $3Dmol.createViewer($(\"#3dmolviewer_1602845778777559\"),{backgroundColor:\"white\"});\n",
       "\tviewer_1602845778777559.addModel(\"\\n     RDKit          3D\\n\\n 12 13  0  0  0  0  0  0  0  0999 V2000\\n   -1.3414   -1.9990   -0.5372 C   0  0  0  0  0  0  0  0  0  0  0  0\\n   -1.7973   -0.7178   -0.1673 N   0  0  0  0  0  0  0  0  0  0  0  0\\n   -1.5094   -0.2552    1.1412 C   0  0  0  0  0  0  0  0  0  0  0  0\\n   -2.3013    1.0583    0.9954 C   0  0  0  0  0  0  0  0  0  0  0  0\\n   -1.5276    1.6347   -0.1089 C   0  0  0  0  0  0  0  0  0  0  0  0\\n   -1.1461    0.3603   -1.0780 C   0  0  1  0  0  0  0  0  0  0  0  0\\n    0.3058    0.1861   -0.5760 C   0  0  0  0  0  0  0  0  0  0  0  0\\n    1.1113    1.2363   -0.2529 C   0  0  0  0  0  0  0  0  0  0  0  0\\n    2.4128    1.0554    0.1887 C   0  0  0  0  0  0  0  0  0  0  0  0\\n    2.8860   -0.2205    0.2975 C   0  0  0  0  0  0  0  0  0  0  0  0\\n    2.1011   -1.2665   -0.0182 N   0  0  0  0  0  0  0  0  0  0  0  0\\n    0.8062   -1.0722   -0.4570 C   0  0  0  0  0  0  0  0  0  0  0  0\\n  1  2  1  0\\n  2  3  1  0\\n  3  4  1  0\\n  4  5  1  0\\n  5  6  1  0\\n  6  7  1  1\\n  7  8  2  0\\n  8  9  1  0\\n  9 10  2  0\\n 10 11  1  0\\n 11 12  2  0\\n  6  2  1  0\\n 12  7  1  0\\nM  END\\n\",\"sdf\");\n",
       "\tviewer_1602845778777559.setStyle({\"stick\": {}});\n",
       "\tviewer_1602845778777559.setStyle({\"model\": 0},{\"stick\": {\"colorscheme\": \"cyanCarbon\"}});\n",
       "\tviewer_1602845778777559.zoomTo();\n",
       "viewer_1602845778777559.render();\n",
       "});\n",
       "</script>"
      ]
     },
     "metadata": {},
     "output_type": "display_data"
    },
    {
     "data": {
      "text/plain": [
       "<py3Dmol.view at 0x7f8ce50de7d0>"
      ]
     },
     "execution_count": 29,
     "metadata": {},
     "output_type": "execute_result"
    }
   ],
   "source": [
    "m = Chem.MolFromSmiles('CN1CCC[C@H]1c2cccnc2')\n",
    "AllChem.EmbedMolecule(m)\n",
    "string  = Chem.MolToMolBlock(m)\n",
    "\n",
    "benz=string\n",
    "view = py3Dmol.view()\n",
    "view.addModel(benz,'sdf')\n",
    "view.setStyle({'stick':{}})\n",
    "view.setStyle({'model':0},{'stick':{'colorscheme':'cyanCarbon'}})\n",
    "view.zoomTo()"
   ]
  },
  {
   "cell_type": "code",
   "execution_count": 32,
   "metadata": {},
   "outputs": [
    {
     "data": {
      "application/3dmoljs_load.v0": "<div id=\"3dmolviewer_1602845821169835\"  style=\"position: relative; width: 640px; height: 480px\">\n        <p id=\"3dmolwarning_1602845821169835\" style=\"background-color:#ffcccc;color:black\">You appear to be running in JupyterLab (or JavaScript failed to load for some other reason).  You need to install the 3dmol extension: <br>\n        <tt>jupyter labextension install jupyterlab_3dmol</tt></p>\n        </div>\n<script>\n\nvar loadScriptAsync = function(uri){\n  return new Promise((resolve, reject) => {\n    var tag = document.createElement('script');\n    tag.src = uri;\n    tag.async = true;\n    tag.onload = () => {\n      resolve();\n    };\n  var firstScriptTag = document.getElementsByTagName('script')[0];\n  firstScriptTag.parentNode.insertBefore(tag, firstScriptTag);\n});\n};\n\nif(typeof $3Dmolpromise === 'undefined') {\n$3Dmolpromise = null;\n  $3Dmolpromise = loadScriptAsync('https://3dmol.org/build/3Dmol.js');\n}\n\nvar viewer_1602845821169835 = null;\nvar warn = document.getElementById(\"3dmolwarning_1602845821169835\");\nif(warn) {\n    warn.parentNode.removeChild(warn);\n}\n$3Dmolpromise.then(function() {\nviewer_1602845821169835 = $3Dmol.createViewer($(\"#3dmolviewer_1602845821169835\"),{backgroundColor:\"white\"});\n$3Dmol.download(\"pdb:5ire\", viewer_1602845821169835, {\"doAssembly\": true}, function() {\n\tviewer_1602845821169835.setStyle({\"cartoon\": {\"color\": \"spectrum\"}});\nviewer_1602845821169835.render();\n})\n});\n</script>",
      "text/html": [
       "<div id=\"3dmolviewer_1602845821169835\"  style=\"position: relative; width: 640px; height: 480px\">\n",
       "        <p id=\"3dmolwarning_1602845821169835\" style=\"background-color:#ffcccc;color:black\">You appear to be running in JupyterLab (or JavaScript failed to load for some other reason).  You need to install the 3dmol extension: <br>\n",
       "        <tt>jupyter labextension install jupyterlab_3dmol</tt></p>\n",
       "        </div>\n",
       "<script>\n",
       "\n",
       "var loadScriptAsync = function(uri){\n",
       "  return new Promise((resolve, reject) => {\n",
       "    var tag = document.createElement('script');\n",
       "    tag.src = uri;\n",
       "    tag.async = true;\n",
       "    tag.onload = () => {\n",
       "      resolve();\n",
       "    };\n",
       "  var firstScriptTag = document.getElementsByTagName('script')[0];\n",
       "  firstScriptTag.parentNode.insertBefore(tag, firstScriptTag);\n",
       "});\n",
       "};\n",
       "\n",
       "if(typeof $3Dmolpromise === 'undefined') {\n",
       "$3Dmolpromise = null;\n",
       "  $3Dmolpromise = loadScriptAsync('https://3dmol.org/build/3Dmol.js');\n",
       "}\n",
       "\n",
       "var viewer_1602845821169835 = null;\n",
       "var warn = document.getElementById(\"3dmolwarning_1602845821169835\");\n",
       "if(warn) {\n",
       "    warn.parentNode.removeChild(warn);\n",
       "}\n",
       "$3Dmolpromise.then(function() {\n",
       "viewer_1602845821169835 = $3Dmol.createViewer($(\"#3dmolviewer_1602845821169835\"),{backgroundColor:\"white\"});\n",
       "$3Dmol.download(\"pdb:5ire\", viewer_1602845821169835, {\"doAssembly\": true}, function() {\n",
       "\tviewer_1602845821169835.setStyle({\"cartoon\": {\"color\": \"spectrum\"}});\n",
       "viewer_1602845821169835.render();\n",
       "})\n",
       "});\n",
       "</script>"
      ]
     },
     "metadata": {},
     "output_type": "display_data"
    }
   ],
   "source": [
    "view = py3Dmol.view(query='pdb:5ire',options={'doAssembly':True})\n",
    "view.setStyle({'cartoon':{'color':'spectrum'}})\n",
    "view.show()"
   ]
  },
  {
   "cell_type": "code",
   "execution_count": null,
   "metadata": {},
   "outputs": [],
   "source": []
  }
 ],
 "metadata": {
  "kernelspec": {
   "display_name": "Python 3",
   "language": "python",
   "name": "python3"
  },
  "language_info": {
   "codemirror_mode": {
    "name": "ipython",
    "version": 3
   },
   "file_extension": ".py",
   "mimetype": "text/x-python",
   "name": "python",
   "nbconvert_exporter": "python",
   "pygments_lexer": "ipython3",
   "version": "3.7.6"
  }
 },
 "nbformat": 4,
 "nbformat_minor": 4
}
